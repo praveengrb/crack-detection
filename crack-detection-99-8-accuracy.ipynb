{
 "cells": [
  {
   "cell_type": "code",
   "execution_count": 1,
   "metadata": {
    "papermill": {
     "duration": 0.179695,
     "end_time": "2021-10-10T13:43:33.162517",
     "exception": false,
     "start_time": "2021-10-10T13:43:32.982822",
     "status": "completed"
    },
    "tags": []
   },
   "outputs": [
    {
     "ename": "ModuleNotFoundError",
     "evalue": "No module named 'matplotlib'",
     "output_type": "error",
     "traceback": [
      "\u001b[1;31m---------------------------------------------------------------------------\u001b[0m",
      "\u001b[1;31mModuleNotFoundError\u001b[0m                       Traceback (most recent call last)",
      "Input \u001b[1;32mIn [1]\u001b[0m, in \u001b[0;36m<cell line: 2>\u001b[1;34m()\u001b[0m\n\u001b[0;32m      1\u001b[0m \u001b[38;5;28;01mimport\u001b[39;00m \u001b[38;5;21;01mnumpy\u001b[39;00m \u001b[38;5;28;01mas\u001b[39;00m \u001b[38;5;21;01mnp\u001b[39;00m\n\u001b[1;32m----> 2\u001b[0m \u001b[38;5;28;01mimport\u001b[39;00m \u001b[38;5;21;01mmatplotlib\u001b[39;00m\u001b[38;5;21;01m.\u001b[39;00m\u001b[38;5;21;01mpyplot\u001b[39;00m \u001b[38;5;28;01mas\u001b[39;00m \u001b[38;5;21;01mplt\u001b[39;00m\n\u001b[0;32m      3\u001b[0m \u001b[38;5;28;01mimport\u001b[39;00m \u001b[38;5;21;01mcv2\u001b[39;00m\n\u001b[0;32m      4\u001b[0m \u001b[38;5;28;01mimport\u001b[39;00m \u001b[38;5;21;01mos\u001b[39;00m\n",
      "\u001b[1;31mModuleNotFoundError\u001b[0m: No module named 'matplotlib'"
     ]
    }
   ],
   "source": [
    "import numpy as np\n",
    "import matplotlib.pyplot as plt\n",
    "import cv2\n",
    "import os"
   ]
  },
  {
   "cell_type": "code",
   "execution_count": null,
   "metadata": {
    "papermill": {
     "duration": 0.064316,
     "end_time": "2021-10-10T13:43:33.249826",
     "exception": false,
     "start_time": "2021-10-10T13:43:33.185510",
     "status": "completed"
    },
    "tags": []
   },
   "outputs": [],
   "source": [
    "image = cv2.imread('../input/surface-crack-detection/Negative/00002.jpg')\n",
    "type(image)"
   ]
  },
  {
   "cell_type": "code",
   "execution_count": null,
   "metadata": {
    "papermill": {
     "duration": 0.175792,
     "end_time": "2021-10-10T13:43:33.448576",
     "exception": false,
     "start_time": "2021-10-10T13:43:33.272784",
     "status": "completed"
    },
    "tags": []
   },
   "outputs": [],
   "source": [
    "plt.imshow(image)"
   ]
  },
  {
   "cell_type": "code",
   "execution_count": null,
   "metadata": {
    "papermill": {
     "duration": 0.043222,
     "end_time": "2021-10-10T13:43:33.517365",
     "exception": false,
     "start_time": "2021-10-10T13:43:33.474143",
     "status": "completed"
    },
    "tags": []
   },
   "outputs": [],
   "source": [
    "image = cv2.imread('../input/surface-crack-detection/Positive/00003.jpg')\n",
    "type(image)"
   ]
  },
  {
   "cell_type": "code",
   "execution_count": null,
   "metadata": {
    "papermill": {
     "duration": 0.163676,
     "end_time": "2021-10-10T13:43:33.707671",
     "exception": false,
     "start_time": "2021-10-10T13:43:33.543995",
     "status": "completed"
    },
    "tags": []
   },
   "outputs": [],
   "source": [
    "plt.imshow(image)"
   ]
  },
  {
   "cell_type": "code",
   "execution_count": null,
   "metadata": {
    "papermill": {
     "duration": 0.039233,
     "end_time": "2021-10-10T13:43:33.777980",
     "exception": false,
     "start_time": "2021-10-10T13:43:33.738747",
     "status": "completed"
    },
    "tags": []
   },
   "outputs": [],
   "source": [
    "image.shape"
   ]
  },
  {
   "cell_type": "code",
   "execution_count": null,
   "metadata": {
    "papermill": {
     "duration": 0.03451,
     "end_time": "2021-10-10T13:43:33.840981",
     "exception": false,
     "start_time": "2021-10-10T13:43:33.806471",
     "status": "completed"
    },
    "tags": []
   },
   "outputs": [],
   "source": [
    "path = '../input/surface-crack-detection'"
   ]
  },
  {
   "cell_type": "code",
   "execution_count": null,
   "metadata": {
    "papermill": {
     "duration": 4.721965,
     "end_time": "2021-10-10T13:43:38.591534",
     "exception": false,
     "start_time": "2021-10-10T13:43:33.869569",
     "status": "completed"
    },
    "tags": []
   },
   "outputs": [],
   "source": [
    "from keras.models import Sequential\n",
    "from keras.layers import Conv2D, MaxPool2D, Dropout\n",
    "from keras.layers import Dense, Flatten, Activation\n",
    "from keras.preprocessing.image import ImageDataGenerator"
   ]
  },
  {
   "cell_type": "code",
   "execution_count": null,
   "metadata": {
    "papermill": {
     "duration": 2.733923,
     "end_time": "2021-10-10T13:43:41.352989",
     "exception": false,
     "start_time": "2021-10-10T13:43:38.619066",
     "status": "completed"
    },
    "tags": []
   },
   "outputs": [],
   "source": [
    "model = Sequential()\n",
    "model.add(Conv2D(input_shape=(227,227,3),filters=64,kernel_size=(3,3),padding=\"same\", activation=\"relu\"))\n",
    "model.add(Conv2D(filters=64,kernel_size=(3,3),padding=\"same\", activation=\"relu\"))\n",
    "model.add(MaxPool2D(pool_size=(2,2),strides=(2,2)))\n",
    "model.add(Conv2D(filters=128, kernel_size=(3,3), padding=\"same\", activation=\"relu\"))\n",
    "model.add(Conv2D(filters=128, kernel_size=(3,3), padding=\"same\", activation=\"relu\"))\n",
    "model.add(MaxPool2D(pool_size=(2,2),strides=(2,2)))\n",
    "model.add(Conv2D(filters=256, kernel_size=(3,3), padding=\"same\", activation=\"relu\"))\n",
    "model.add(Conv2D(filters=256, kernel_size=(3,3), padding=\"same\", activation=\"relu\"))\n",
    "model.add(Conv2D(filters=256, kernel_size=(3,3), padding=\"same\", activation=\"relu\"))\n",
    "model.add(MaxPool2D(pool_size=(2,2),strides=(2,2)))\n",
    "model.add(Conv2D(filters=512, kernel_size=(3,3), padding=\"same\", activation=\"relu\"))\n",
    "model.add(Conv2D(filters=512, kernel_size=(3,3), padding=\"same\", activation=\"relu\"))\n",
    "model.add(Conv2D(filters=512, kernel_size=(3,3), padding=\"same\", activation=\"relu\"))\n",
    "model.add(MaxPool2D(pool_size=(2,2),strides=(2,2)))\n",
    "model.add(Conv2D(filters=512, kernel_size=(3,3), padding=\"same\", activation=\"relu\"))\n",
    "model.add(Conv2D(filters=512, kernel_size=(3,3), padding=\"same\", activation=\"relu\"))\n",
    "model.add(Conv2D(filters=512, kernel_size=(3,3), padding=\"same\", activation=\"relu\"))\n",
    "model.add(MaxPool2D(pool_size=(2,2),strides=(2,2)))\n",
    "model.add(Flatten())\n",
    "model.add(Dense(units=4096,activation=\"relu\"))\n",
    "model.add(Dense(units=4096,activation=\"relu\"))\n",
    "model.add(Dense(units=2, activation=\"softmax\"))\n",
    "model.summary()"
   ]
  },
  {
   "cell_type": "code",
   "execution_count": null,
   "metadata": {
    "papermill": {
     "duration": 0.043228,
     "end_time": "2021-10-10T13:43:41.425831",
     "exception": false,
     "start_time": "2021-10-10T13:43:41.382603",
     "status": "completed"
    },
    "tags": []
   },
   "outputs": [],
   "source": [
    "model.compile(optimizer='adam', loss='categorical_crossentropy', metrics=['accuracy'])"
   ]
  },
  {
   "cell_type": "code",
   "execution_count": null,
   "metadata": {
    "papermill": {
     "duration": 0.033606,
     "end_time": "2021-10-10T13:43:41.487109",
     "exception": false,
     "start_time": "2021-10-10T13:43:41.453503",
     "status": "completed"
    },
    "tags": []
   },
   "outputs": [],
   "source": [
    "datagen = ImageDataGenerator(rescale=1.0/255,validation_split=0.3)"
   ]
  },
  {
   "cell_type": "code",
   "execution_count": null,
   "metadata": {
    "papermill": {
     "duration": 36.319863,
     "end_time": "2021-10-10T13:44:17.833311",
     "exception": false,
     "start_time": "2021-10-10T13:43:41.513448",
     "status": "completed"
    },
    "tags": []
   },
   "outputs": [],
   "source": [
    "train_data = datagen.flow_from_directory(path,\n",
    "                                         target_size=[227,227],\n",
    "                                         batch_size=64,\n",
    "                                         class_mode='categorical',\n",
    "                                         subset='training')\n",
    "test_data = datagen.flow_from_directory(path,\n",
    "                                        target_size=[227,227],\n",
    "                                        batch_size=64,\n",
    "                                        class_mode='categorical',\n",
    "                                        subset='validation')\n",
    "                                       \n"
   ]
  },
  {
   "cell_type": "code",
   "execution_count": null,
   "metadata": {
    "papermill": {
     "duration": 3460.741882,
     "end_time": "2021-10-10T14:41:58.602252",
     "exception": false,
     "start_time": "2021-10-10T13:44:17.860370",
     "status": "completed"
    },
    "tags": []
   },
   "outputs": [],
   "source": [
    "history=model.fit_generator(train_data,\n",
    "                           validation_data=test_data,\n",
    "                           epochs=15,\n",
    "                           steps_per_epoch=len(train_data),\n",
    "                           validation_steps=len(test_data))"
   ]
  },
  {
   "cell_type": "code",
   "execution_count": null,
   "metadata": {
    "papermill": {
     "duration": 2.76221,
     "end_time": "2021-10-10T14:42:03.114279",
     "exception": false,
     "start_time": "2021-10-10T14:42:00.352069",
     "status": "completed"
    },
    "tags": []
   },
   "outputs": [],
   "source": [
    "model.save_weights(\"model.h5\")"
   ]
  },
  {
   "cell_type": "code",
   "execution_count": null,
   "metadata": {
    "papermill": {
     "duration": 1.721594,
     "end_time": "2021-10-10T14:42:06.534172",
     "exception": false,
     "start_time": "2021-10-10T14:42:04.812578",
     "status": "completed"
    },
    "tags": []
   },
   "outputs": [],
   "source": [
    "print(history.history.keys())"
   ]
  },
  {
   "cell_type": "code",
   "execution_count": null,
   "metadata": {
    "papermill": {
     "duration": 2.227169,
     "end_time": "2021-10-10T14:42:10.527275",
     "exception": false,
     "start_time": "2021-10-10T14:42:08.300106",
     "status": "completed"
    },
    "tags": []
   },
   "outputs": [],
   "source": [
    "plt.plot(history.history['accuracy'])\n",
    "plt.plot(history.history['val_accuracy'])\n",
    "plt.title('Model accuracy')\n",
    "plt.ylabel('Accuracy')\n",
    "plt.xlabel('Epoch')\n",
    "plt.legend(['Train', 'Test'], loc='upper left')\n",
    "plt.show()\n",
    "\n",
    "plt.plot(history.history['loss'])\n",
    "plt.plot(history.history['val_loss'])\n",
    "plt.title('Model loss')\n",
    "plt.ylabel('Loss')\n",
    "plt.xlabel('Epoch')\n",
    "plt.legend(['Train', 'Test'], loc='upper left')\n",
    "plt.show()"
   ]
  },
  {
   "cell_type": "code",
   "execution_count": null,
   "metadata": {
    "papermill": {
     "duration": 1.711248,
     "end_time": "2021-10-10T14:42:13.986169",
     "exception": false,
     "start_time": "2021-10-10T14:42:12.274921",
     "status": "completed"
    },
    "tags": []
   },
   "outputs": [],
   "source": [
    "from keras.applications.vgg16 import VGG16\n",
    "from keras.applications.vgg16 import preprocess_input\n",
    "\n",
    "from keras.applications import InceptionV3\n",
    "from keras.applications import ResNet50\n",
    "from keras.models import Model"
   ]
  },
  {
   "cell_type": "markdown",
   "metadata": {
    "papermill": {
     "duration": 1.71365,
     "end_time": "2021-10-10T14:42:17.388574",
     "exception": false,
     "start_time": "2021-10-10T14:42:15.674924",
     "status": "completed"
    },
    "tags": []
   },
   "source": [
    "## VGG16 Architecture"
   ]
  },
  {
   "cell_type": "code",
   "execution_count": null,
   "metadata": {
    "papermill": {
     "duration": 3.266226,
     "end_time": "2021-10-10T14:42:22.389467",
     "exception": false,
     "start_time": "2021-10-10T14:42:19.123241",
     "status": "completed"
    },
    "tags": []
   },
   "outputs": [],
   "source": [
    "vgg = VGG16(include_top=False, weights='imagenet', input_shape=(227,227,3))\n",
    "vgg.summary()"
   ]
  },
  {
   "cell_type": "code",
   "execution_count": null,
   "metadata": {
    "papermill": {
     "duration": 2.019475,
     "end_time": "2021-10-10T14:42:26.135833",
     "exception": false,
     "start_time": "2021-10-10T14:42:24.116358",
     "status": "completed"
    },
    "tags": []
   },
   "outputs": [],
   "source": [
    "for layer in vgg.layers:\n",
    "    layer.trainable=False"
   ]
  },
  {
   "cell_type": "code",
   "execution_count": null,
   "metadata": {
    "papermill": {
     "duration": 1.786203,
     "end_time": "2021-10-10T14:42:29.890234",
     "exception": false,
     "start_time": "2021-10-10T14:42:28.104031",
     "status": "completed"
    },
    "tags": []
   },
   "outputs": [],
   "source": [
    "x = Flatten()(vgg.output)\n",
    "x = Dense(512,activation='relu')(x)\n",
    "x = Dense(512,activation='relu')(x)\n",
    "prediction = Dense(2,activation='sigmoid')(x)\n",
    "model = Model(inputs=vgg.input, outputs=prediction)\n",
    "model.summary()"
   ]
  },
  {
   "cell_type": "code",
   "execution_count": null,
   "metadata": {
    "papermill": {
     "duration": 1.803059,
     "end_time": "2021-10-10T14:42:33.670375",
     "exception": false,
     "start_time": "2021-10-10T14:42:31.867316",
     "status": "completed"
    },
    "tags": []
   },
   "outputs": [],
   "source": [
    "model.compile(optimizer='adam', loss='binary_crossentropy', metrics=['accuracy'])"
   ]
  },
  {
   "cell_type": "code",
   "execution_count": null,
   "metadata": {
    "papermill": {
     "duration": 632.268492,
     "end_time": "2021-10-10T14:53:07.921840",
     "exception": false,
     "start_time": "2021-10-10T14:42:35.653348",
     "status": "completed"
    },
    "tags": []
   },
   "outputs": [],
   "source": [
    "history=model.fit_generator(train_data,\n",
    "                           validation_data=test_data,\n",
    "                           epochs=5,\n",
    "                           steps_per_epoch=len(train_data),\n",
    "                           validation_steps=len(test_data))"
   ]
  },
  {
   "cell_type": "code",
   "execution_count": null,
   "metadata": {
    "papermill": {
     "duration": 2.456276,
     "end_time": "2021-10-10T14:53:12.910704",
     "exception": false,
     "start_time": "2021-10-10T14:53:10.454428",
     "status": "completed"
    },
    "tags": []
   },
   "outputs": [],
   "source": [
    "model.save_weights(\"vgg_model.h5\")"
   ]
  },
  {
   "cell_type": "code",
   "execution_count": null,
   "metadata": {
    "papermill": {
     "duration": 2.598449,
     "end_time": "2021-10-10T14:53:17.797955",
     "exception": false,
     "start_time": "2021-10-10T14:53:15.199506",
     "status": "completed"
    },
    "tags": []
   },
   "outputs": [],
   "source": [
    "plt.plot(history.history['accuracy'])\n",
    "plt.plot(history.history['val_accuracy'])\n",
    "plt.title('Model accuracy')\n",
    "plt.ylabel('Accuracy')\n",
    "plt.xlabel('Epoch')\n",
    "plt.legend(['Train', 'Test'], loc='upper left')\n",
    "plt.show()\n",
    "\n",
    "plt.plot(history.history['loss'])\n",
    "plt.plot(history.history['val_loss'])\n",
    "plt.title('Model loss')\n",
    "plt.ylabel('Loss')\n",
    "plt.xlabel('Epoch')\n",
    "plt.legend(['Train', 'Test'], loc='upper left')\n",
    "plt.show()"
   ]
  },
  {
   "cell_type": "markdown",
   "metadata": {
    "papermill": {
     "duration": 2.298745,
     "end_time": "2021-10-10T14:53:22.688683",
     "exception": false,
     "start_time": "2021-10-10T14:53:20.389938",
     "status": "completed"
    },
    "tags": []
   },
   "source": [
    "## Inception Architecture"
   ]
  },
  {
   "cell_type": "code",
   "execution_count": null,
   "metadata": {
    "papermill": {
     "duration": 5.312875,
     "end_time": "2021-10-10T14:53:30.718643",
     "exception": false,
     "start_time": "2021-10-10T14:53:25.405768",
     "status": "completed"
    },
    "tags": []
   },
   "outputs": [],
   "source": [
    "inception = InceptionV3(include_top=False, weights='imagenet', input_shape=(227,227,3))\n",
    "inception.summary()"
   ]
  },
  {
   "cell_type": "code",
   "execution_count": null,
   "metadata": {
    "papermill": {
     "duration": 2.567528,
     "end_time": "2021-10-10T14:53:35.683909",
     "exception": false,
     "start_time": "2021-10-10T14:53:33.116381",
     "status": "completed"
    },
    "tags": []
   },
   "outputs": [],
   "source": [
    "for layer in inception.layers:\n",
    "    layer.trainable=False"
   ]
  },
  {
   "cell_type": "code",
   "execution_count": null,
   "metadata": {
    "papermill": {
     "duration": 2.425319,
     "end_time": "2021-10-10T14:53:40.412302",
     "exception": false,
     "start_time": "2021-10-10T14:53:37.986983",
     "status": "completed"
    },
    "tags": []
   },
   "outputs": [],
   "source": [
    "x = Flatten()(inception.output)\n",
    "x = Dense(512,activation='relu')(x)\n",
    "x = Dense(512,activation='relu')(x)\n",
    "prediction = Dense(2,activation='sigmoid')(x)\n",
    "model = Model(inputs=inception.input, outputs=prediction)\n",
    "model.summary()"
   ]
  },
  {
   "cell_type": "code",
   "execution_count": null,
   "metadata": {
    "papermill": {
     "duration": 2.354694,
     "end_time": "2021-10-10T14:53:45.347922",
     "exception": false,
     "start_time": "2021-10-10T14:53:42.993228",
     "status": "completed"
    },
    "tags": []
   },
   "outputs": [],
   "source": [
    "model.compile(optimizer='adam', loss='binary_crossentropy', metrics=['accuracy'])"
   ]
  },
  {
   "cell_type": "code",
   "execution_count": null,
   "metadata": {
    "papermill": {
     "duration": 616.623029,
     "end_time": "2021-10-10T15:04:04.292046",
     "exception": false,
     "start_time": "2021-10-10T14:53:47.669017",
     "status": "completed"
    },
    "tags": []
   },
   "outputs": [],
   "source": [
    "hist=model.fit_generator(train_data,\n",
    "                           validation_data=test_data,\n",
    "                           epochs=5,\n",
    "                           steps_per_epoch=len(train_data),\n",
    "                           validation_steps=len(test_data))"
   ]
  },
  {
   "cell_type": "code",
   "execution_count": null,
   "metadata": {
    "papermill": {
     "duration": 3.726313,
     "end_time": "2021-10-10T15:04:10.892436",
     "exception": false,
     "start_time": "2021-10-10T15:04:07.166123",
     "status": "completed"
    },
    "tags": []
   },
   "outputs": [],
   "source": [
    "model.save_weights(\"inception_model.h5\")"
   ]
  },
  {
   "cell_type": "code",
   "execution_count": null,
   "metadata": {
    "papermill": {
     "duration": 3.280477,
     "end_time": "2021-10-10T15:04:17.061042",
     "exception": false,
     "start_time": "2021-10-10T15:04:13.780565",
     "status": "completed"
    },
    "tags": []
   },
   "outputs": [],
   "source": [
    "plt.plot(hist.history['accuracy'])\n",
    "plt.plot(hist.history['val_accuracy'])\n",
    "plt.title('Model accuracy')\n",
    "plt.ylabel('Accuracy')\n",
    "plt.xlabel('Epoch')\n",
    "plt.legend(['Train', 'Test'], loc='upper left')\n",
    "plt.show()\n",
    "\n",
    "plt.plot(hist.history['loss'])\n",
    "plt.plot(hist.history['val_loss'])\n",
    "plt.title('Model loss')\n",
    "plt.ylabel('Loss')\n",
    "plt.xlabel('Epoch')\n",
    "plt.legend(['Train', 'Test'], loc='upper left')\n",
    "plt.show()"
   ]
  },
  {
   "cell_type": "markdown",
   "metadata": {
    "papermill": {
     "duration": 2.902797,
     "end_time": "2021-10-10T15:04:23.631913",
     "exception": false,
     "start_time": "2021-10-10T15:04:20.729116",
     "status": "completed"
    },
    "tags": []
   },
   "source": [
    "## Resnet Architecture"
   ]
  },
  {
   "cell_type": "code",
   "execution_count": null,
   "metadata": {
    "papermill": {
     "duration": 5.462188,
     "end_time": "2021-10-10T15:04:31.934377",
     "exception": false,
     "start_time": "2021-10-10T15:04:26.472189",
     "status": "completed"
    },
    "tags": []
   },
   "outputs": [],
   "source": [
    "resnet = ResNet50(include_top=False, weights='imagenet', input_shape=(227,227,3))\n",
    "resnet.summary()"
   ]
  },
  {
   "cell_type": "code",
   "execution_count": null,
   "metadata": {
    "papermill": {
     "duration": 2.999527,
     "end_time": "2021-10-10T15:04:37.838969",
     "exception": false,
     "start_time": "2021-10-10T15:04:34.839442",
     "status": "completed"
    },
    "tags": []
   },
   "outputs": [],
   "source": [
    "for layer in resnet.layers:\n",
    "    layer.trainable=False"
   ]
  },
  {
   "cell_type": "code",
   "execution_count": null,
   "metadata": {
    "papermill": {
     "duration": 3.209686,
     "end_time": "2021-10-10T15:04:43.935523",
     "exception": false,
     "start_time": "2021-10-10T15:04:40.725837",
     "status": "completed"
    },
    "tags": []
   },
   "outputs": [],
   "source": [
    "x = Flatten()(resnet.output)\n",
    "x = Dense(512,activation='relu')(x)\n",
    "x = Dense(512,activation='relu')(x)\n",
    "prediction = Dense(2,activation='sigmoid')(x)\n",
    "model = Model(inputs=resnet.input, outputs=prediction)\n",
    "model.summary()"
   ]
  },
  {
   "cell_type": "code",
   "execution_count": null,
   "metadata": {
    "papermill": {
     "duration": 2.941362,
     "end_time": "2021-10-10T15:04:49.890230",
     "exception": false,
     "start_time": "2021-10-10T15:04:46.948868",
     "status": "completed"
    },
    "tags": []
   },
   "outputs": [],
   "source": [
    "model.compile(optimizer='adam', loss='binary_crossentropy', metrics=['accuracy'])"
   ]
  },
  {
   "cell_type": "code",
   "execution_count": null,
   "metadata": {
    "papermill": {
     "duration": 664.009443,
     "end_time": "2021-10-10T15:15:57.484748",
     "exception": false,
     "start_time": "2021-10-10T15:04:53.475305",
     "status": "completed"
    },
    "tags": []
   },
   "outputs": [],
   "source": [
    "history=model.fit_generator(train_data,\n",
    "                           validation_data=test_data,\n",
    "                           epochs=5,\n",
    "                           steps_per_epoch=len(train_data),\n",
    "                           validation_steps=len(test_data))"
   ]
  },
  {
   "cell_type": "code",
   "execution_count": null,
   "metadata": {
    "papermill": {
     "duration": 4.574559,
     "end_time": "2021-10-10T15:16:05.490996",
     "exception": false,
     "start_time": "2021-10-10T15:16:00.916437",
     "status": "completed"
    },
    "tags": []
   },
   "outputs": [],
   "source": [
    "model.save_weights(\"resnet_model.h5\")"
   ]
  },
  {
   "cell_type": "code",
   "execution_count": null,
   "metadata": {
    "papermill": {
     "duration": 3.77045,
     "end_time": "2021-10-10T15:16:12.748477",
     "exception": false,
     "start_time": "2021-10-10T15:16:08.978027",
     "status": "completed"
    },
    "tags": []
   },
   "outputs": [],
   "source": [
    "plt.plot(hist.history['accuracy'])\n",
    "plt.plot(hist.history['val_accuracy'])\n",
    "plt.title('Model accuracy')\n",
    "plt.ylabel('Accuracy')\n",
    "plt.xlabel('Epoch')\n",
    "plt.legend(['Train', 'Test'], loc='upper left')\n",
    "plt.show()\n",
    "\n",
    "plt.plot(hist.history['loss'])\n",
    "plt.plot(hist.history['val_loss'])\n",
    "plt.title('Model loss')\n",
    "plt.ylabel('Loss')\n",
    "plt.xlabel('Epoch')\n",
    "plt.legend(['Train', 'Test'], loc='upper left')\n",
    "plt.show()"
   ]
  },
  {
   "cell_type": "code",
   "execution_count": null,
   "metadata": {
    "papermill": {
     "duration": 3.781451,
     "end_time": "2021-10-10T15:16:20.344309",
     "exception": false,
     "start_time": "2021-10-10T15:16:16.562858",
     "status": "completed"
    },
    "tags": []
   },
   "outputs": [],
   "source": []
  }
 ],
 "metadata": {
  "kernelspec": {
   "display_name": "Python 3 (ipykernel)",
   "language": "python",
   "name": "python3"
  },
  "language_info": {
   "codemirror_mode": {
    "name": "ipython",
    "version": 3
   },
   "file_extension": ".py",
   "mimetype": "text/x-python",
   "name": "python",
   "nbconvert_exporter": "python",
   "pygments_lexer": "ipython3",
   "version": "3.8.2"
  },
  "papermill": {
   "default_parameters": {},
   "duration": 5578.681268,
   "end_time": "2021-10-10T15:16:26.798071",
   "environment_variables": {},
   "exception": null,
   "input_path": "__notebook__.ipynb",
   "output_path": "__notebook__.ipynb",
   "parameters": {},
   "start_time": "2021-10-10T13:43:28.116803",
   "version": "2.2.2"
  }
 },
 "nbformat": 4,
 "nbformat_minor": 4
}
